{
 "cells": [
  {
   "cell_type": "markdown",
   "id": "bd7d3241",
   "metadata": {},
   "source": [
    "# check numeric value in list using for loop"
   ]
  },
  {
   "cell_type": "code",
   "execution_count": 1,
   "id": "ba3e2299",
   "metadata": {},
   "outputs": [
    {
     "name": "stdout",
     "output_type": "stream",
     "text": [
      "2\n",
      "9\n"
     ]
    }
   ],
   "source": [
    "list = [\"python\", 2 , 9, \"jupyter\"] \n",
    "for x in list: \n",
    "    if type(x) == int: \n",
    "        print(x)"
   ]
  },
  {
   "cell_type": "markdown",
   "id": "3935b5f1",
   "metadata": {},
   "source": [
    "# script to add a key to a dictionary"
   ]
  },
  {
   "cell_type": "code",
   "execution_count": 2,
   "id": "f420bbd0",
   "metadata": {},
   "outputs": [
    {
     "name": "stdout",
     "output_type": "stream",
     "text": [
      "Current Dict is:  {'key1': 'python', 'key2': 'c++'}\n",
      "Updated Dict is:  {'key1': 'python', 'key2': 'java', 'key3': 'R'}\n"
     ]
    }
   ],
   "source": [
    "dict = {'key1':'python', 'key2':'c++'}\n",
    "print(\"Current Dict is: \", dict)\n",
    "dict['key2'] = 'java'\n",
    "dict['key3'] = 'R'\n",
    "print(\"Updated Dict is: \", dict)"
   ]
  },
  {
   "cell_type": "markdown",
   "id": "047f90e4",
   "metadata": {},
   "source": [
    "# to sum all the numeric items in a dictionary"
   ]
  },
  {
   "cell_type": "code",
   "execution_count": 3,
   "id": "f2b1a7d5",
   "metadata": {},
   "outputs": [
    {
     "name": "stdout",
     "output_type": "stream",
     "text": [
      "556\n"
     ]
    }
   ],
   "source": [
    "my_dict = {'students':500,'teachers':54,'robot':2}\n",
    "print(sum(my_dict.values()))"
   ]
  },
  {
   "cell_type": "markdown",
   "id": "b8204752",
   "metadata": {},
   "source": [
    "# to identify duplicate values from list"
   ]
  },
  {
   "cell_type": "code",
   "execution_count": 4,
   "id": "b444df14",
   "metadata": {},
   "outputs": [
    {
     "name": "stdout",
     "output_type": "stream",
     "text": [
      "5 4 9 1 "
     ]
    }
   ],
   "source": [
    "l=[4,5,1,5,9,3,4,7,9,1]\n",
    "l1=[]\n",
    "for i in l:\n",
    "    if i not in l1:\n",
    "        l1.append(i)\n",
    "    else:\n",
    "        print(i,end=' ')"
   ]
  },
  {
   "cell_type": "markdown",
   "id": "4b11f465",
   "metadata": {},
   "source": [
    "# script to check if a given key already exists in a dictionary"
   ]
  },
  {
   "cell_type": "code",
   "execution_count": 5,
   "id": "4e3a2f66",
   "metadata": {},
   "outputs": [
    {
     "name": "stdout",
     "output_type": "stream",
     "text": [
      "Key is not present in the dictionary\n",
      "Key is not present in the dictionary\n"
     ]
    }
   ],
   "source": [
    "d = {1: 10, 2: 20, 3: 30, 4: 40, 5: 50, 6: 60}\n",
    "def is_key_present(x):\n",
    "  if x in d:\n",
    "      print('Key is present in the dictionary')\n",
    "  else:\n",
    "      print('Key is not present in the dictionary')\n",
    "is_key_present(10)\n",
    "is_key_present(9)\n"
   ]
  },
  {
   "cell_type": "markdown",
   "id": "76c55431",
   "metadata": {},
   "source": [
    "# simple calculator"
   ]
  },
  {
   "cell_type": "code",
   "execution_count": null,
   "id": "7d7dbfea",
   "metadata": {},
   "outputs": [
    {
     "name": "stdout",
     "output_type": "stream",
     "text": [
      "choose what you want to operate : \n",
      "1.Add\n",
      "2.subtract\n",
      "3.Multiply\n",
      "4.Divide\n",
      "5.Power\n",
      "Enter your choice(1/2/3/4/5):1\n",
      "Enter first number: 3\n",
      "enter second number: 6\n",
      "3.0 + 6.0 = 9.0\n",
      "Enter your choice(1/2/3/4/5):2\n",
      "Enter first number: 7\n",
      "enter second number: 4\n",
      "7.0 - 4.0 = 3.0\n",
      "Enter your choice(1/2/3/4/5):3\n",
      "Enter first number: 5\n",
      "enter second number: 1\n",
      "5.0 * 1.0 = 5.0\n",
      "Enter your choice(1/2/3/4/5):4\n",
      "Enter first number: 7\n",
      "enter second number: 2\n",
      "7.0 / 2.0 = 5.0\n",
      "Enter your choice(1/2/3/4/5):5\n",
      "Enter first number: 2\n",
      "enter second number: 8\n",
      "2.0 ** 8.0 = 256.0\n"
     ]
    }
   ],
   "source": [
    "def add(x,y):\n",
    "    return x + y\n",
    "def subtract(x , y):\n",
    "    return x - y\n",
    "def multiply(x , y):\n",
    "    return x * y\n",
    "def divide(x , y):\n",
    "    return x / y\n",
    "def power(x , y):\n",
    "    return x ** y\n",
    "\n",
    "print(\"choose what you want to operate : \")\n",
    "print(\"1.Add\")\n",
    "print(\"2.subtract\")\n",
    "print(\"3.Multiply\")\n",
    "print(\"4.Divide\")\n",
    "print(\"5.Power\")\n",
    "\n",
    "while True:\n",
    "    operation = input(\"Enter your choice(1/2/3/4/5):\")\n",
    "    \n",
    "    if operation in ('1', '2', '3', '4', '5'):\n",
    "       num1 = float(input(\"Enter first number: \"))\n",
    "       num2= float(input(\"enter second number: \")) \n",
    "        \n",
    "       if operation == '1':\n",
    "            print(num1, \"+\", num2, \"=\", add(num1,num2))\n",
    "            \n",
    "       elif operation == '2':\n",
    "             print(num1, \"-\", num2, \"=\", subtract(num1,num2))\n",
    "                \n",
    "       elif operation == '3':\n",
    "             print(num1, \"*\", num2, \"=\", multiply(num1,num2))\n",
    "                \n",
    "       elif operation == '4':\n",
    "             print(num1, \"/\", num2, \"=\", subtract(num1,num2))\n",
    "                \n",
    "       elif operation == '5':\n",
    "             print(num1, \"**\", num2, \"=\", power(num1,num2))\n",
    "                \n",
    "                "
   ]
  },
  {
   "cell_type": "code",
   "execution_count": null,
   "id": "260e8ff4",
   "metadata": {},
   "outputs": [],
   "source": []
  }
 ],
 "metadata": {
  "kernelspec": {
   "display_name": "Python 3 (ipykernel)",
   "language": "python",
   "name": "python3"
  },
  "language_info": {
   "codemirror_mode": {
    "name": "ipython",
    "version": 3
   },
   "file_extension": ".py",
   "mimetype": "text/x-python",
   "name": "python",
   "nbconvert_exporter": "python",
   "pygments_lexer": "ipython3",
   "version": "3.9.7"
  }
 },
 "nbformat": 4,
 "nbformat_minor": 5
}
